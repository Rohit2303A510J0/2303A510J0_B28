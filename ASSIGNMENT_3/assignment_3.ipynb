{
  "nbformat": 4,
  "nbformat_minor": 0,
  "metadata": {
    "colab": {
      "provenance": [],
      "mount_file_id": "1B3G76TCloZewbhC7CReQTXyvn5b8FvK5",
      "authorship_tag": "ABX9TyNQbLuVnAHFBDaBXzVgmri2",
      "include_colab_link": true
    },
    "kernelspec": {
      "name": "python3",
      "display_name": "Python 3"
    },
    "language_info": {
      "name": "python"
    }
  },
  "cells": [
    {
      "cell_type": "markdown",
      "metadata": {
        "id": "view-in-github",
        "colab_type": "text"
      },
      "source": [
        "<a href=\"https://colab.research.google.com/github/Rohit2303A510J0/2303A510J0_B28/blob/main/ASSIGNMENT_3/assignment_3.ipynb\" target=\"_parent\"><img src=\"https://colab.research.google.com/assets/colab-badge.svg\" alt=\"Open In Colab\"/></a>"
      ]
    },
    {
      "cell_type": "markdown",
      "source": [
        "#Assignment - 3"
      ],
      "metadata": {
        "id": "pJT1bmME7znx"
      }
    },
    {
      "cell_type": "code",
      "source": [
        "import numpy as np\n",
        "import pandas as pd\n",
        "import matplotlib.pyplot as plt"
      ],
      "metadata": {
        "id": "uhIUjG1j7-If"
      },
      "execution_count": 24,
      "outputs": []
    },
    {
      "cell_type": "markdown",
      "source": [
        "##Question - 1"
      ],
      "metadata": {
        "id": "o4NOTp_474V4"
      }
    },
    {
      "cell_type": "code",
      "execution_count": 15,
      "metadata": {
        "colab": {
          "base_uri": "https://localhost:8080/"
        },
        "id": "WU7qbhm12Tn6",
        "outputId": "80fda702-d9e8-4c75-83ed-e443dc49e237"
      },
      "outputs": [
        {
          "output_type": "stream",
          "name": "stdout",
          "text": [
            "[[51 92 14 71]\n",
            " [60 20 82 86]\n",
            " [74 74 87 99]\n",
            " [23  2 21 52]]\n"
          ]
        }
      ],
      "source": [
        "np.random.seed(42)\n",
        "test_scores = np.random.randint(0, 101, (4, 4))\n",
        "print(test_scores)"
      ]
    },
    {
      "cell_type": "code",
      "source": [
        "row_means = np.mean(test_scores, axis=1)\n",
        "column_means = np.mean(test_scores, axis=0)\n",
        "print(\"Row-wise means: \", row_means)\n",
        "print(\"Column-wise means: \", column_means)"
      ],
      "metadata": {
        "colab": {
          "base_uri": "https://localhost:8080/"
        },
        "id": "4akvOdsO9HBd",
        "outputId": "42ce6443-51eb-4023-ba48-af440c027b01"
      },
      "execution_count": 16,
      "outputs": [
        {
          "output_type": "stream",
          "name": "stdout",
          "text": [
            "Row-wise means:  [57.  62.  83.5 24.5]\n",
            "Column-wise means:  [52. 47. 51. 77.]\n"
          ]
        }
      ]
    },
    {
      "cell_type": "code",
      "source": [
        "std_dev = np.std(test_scores)\n",
        "variance = np.var(test_scores)\n",
        "print(\"Standard deviation: \", std_dev)\n",
        "print(\"Variance: \", variance)"
      ],
      "metadata": {
        "colab": {
          "base_uri": "https://localhost:8080/"
        },
        "id": "gnfn9yt99kIw",
        "outputId": "3f127361-be08-4caf-f6c9-27feef97372d"
      },
      "execution_count": 17,
      "outputs": [
        {
          "output_type": "stream",
          "name": "stdout",
          "text": [
            "Standard deviation:  30.509219917919893\n",
            "Variance:  930.8125\n"
          ]
        }
      ]
    },
    {
      "cell_type": "code",
      "source": [
        "global_max = np.max(test_scores)\n",
        "global_min = np.min(test_scores)\n",
        "print(\"Global maximum: \", global_max)\n",
        "print(\"Global minimum: \", global_min)"
      ],
      "metadata": {
        "colab": {
          "base_uri": "https://localhost:8080/"
        },
        "id": "Mb87xYp1-Slz",
        "outputId": "209c16cc-d1b9-4532-bf0a-eaf9cb01f931"
      },
      "execution_count": 18,
      "outputs": [
        {
          "output_type": "stream",
          "name": "stdout",
          "text": [
            "Global maximum:  99\n",
            "Global minimum:  2\n"
          ]
        }
      ]
    },
    {
      "cell_type": "code",
      "source": [
        "max_index = np.unravel_index(np.argmax(test_scores), test_scores.shape)\n",
        "min_index = np.unravel_index(np.argmin(test_scores), test_scores.shape)\n",
        "print(max_index)\n",
        "print(min_index)"
      ],
      "metadata": {
        "colab": {
          "base_uri": "https://localhost:8080/"
        },
        "id": "LI2mxyru-nZ9",
        "outputId": "e2e87a1c-df6e-4261-ff9c-a1430a366ae4"
      },
      "execution_count": 19,
      "outputs": [
        {
          "output_type": "stream",
          "name": "stdout",
          "text": [
            "(np.int64(2), np.int64(3))\n",
            "(np.int64(3), np.int64(1))\n"
          ]
        }
      ]
    },
    {
      "cell_type": "code",
      "source": [
        "# Summary\n",
        "df = pd.DataFrame(test_scores,\n",
        "                  columns=[f\"Test {i+1}\" for i in range(test_scores.shape[1])],\n",
        "                  index=[f\"Student {i+1}\" for i in range(test_scores.shape[0])])\n",
        "\n",
        "print(\"==== Test Scores (4x4) ====\")\n",
        "print(df, \"\\n\")\n",
        "\n",
        "print(\"==== Row-wise Means ====\")\n",
        "for i, val in enumerate(row_means):\n",
        "    print(f\"Student {i+1}: {val:.2f}\")\n",
        "print()\n",
        "\n",
        "print(\"==== Column-wise Means ====\")\n",
        "for i, val in enumerate(column_means):\n",
        "    print(f\"Test {i+1}: {val:.2f}\")\n",
        "print()\n",
        "\n",
        "print(\"==== Overall Statistics ====\")\n",
        "print(f\"Standard Deviation: {std_dev:.2f}\")\n",
        "print(f\"Variance: {variance:.2f}\")\n",
        "print(f\"Global Maximum: {global_max} at index {max_index}\")\n",
        "print(f\"Global Minimum: {global_min} at index {min_index}\")"
      ],
      "metadata": {
        "colab": {
          "base_uri": "https://localhost:8080/"
        },
        "id": "6pDOy12H-znV",
        "outputId": "fb0ef5ab-ba75-46e7-94b9-84e82ad164cd"
      },
      "execution_count": 23,
      "outputs": [
        {
          "output_type": "stream",
          "name": "stdout",
          "text": [
            "==== Test Scores (4x4) ====\n",
            "           Test 1  Test 2  Test 3  Test 4\n",
            "Student 1      51      92      14      71\n",
            "Student 2      60      20      82      86\n",
            "Student 3      74      74      87      99\n",
            "Student 4      23       2      21      52 \n",
            "\n",
            "==== Row-wise Means ====\n",
            "Student 1: 57.00\n",
            "Student 2: 62.00\n",
            "Student 3: 83.50\n",
            "Student 4: 24.50\n",
            "\n",
            "==== Column-wise Means ====\n",
            "Test 1: 52.00\n",
            "Test 2: 47.00\n",
            "Test 3: 51.00\n",
            "Test 4: 77.00\n",
            "\n",
            "==== Overall Statistics ====\n",
            "Standard Deviation: 30.51\n",
            "Variance: 930.81\n",
            "Global Maximum: 99 at index (np.int64(2), np.int64(3))\n",
            "Global Minimum: 2 at index (np.int64(3), np.int64(1))\n"
          ]
        }
      ]
    },
    {
      "cell_type": "markdown",
      "source": [
        "##Question - 2"
      ],
      "metadata": {
        "id": "ZUr702oI_fx5"
      }
    },
    {
      "cell_type": "code",
      "source": [
        "np.random.seed(42)\n",
        "image = np.random.randint(0, 256, (3, 3, 3), dtype=np.uint8)\n",
        "print(\"Original Image:\")\n",
        "print(image)"
      ],
      "metadata": {
        "colab": {
          "base_uri": "https://localhost:8080/"
        },
        "id": "YxaqHC3A_jWt",
        "outputId": "07e2db49-c9c2-49bc-81a4-fb9e66f77a15"
      },
      "execution_count": 25,
      "outputs": [
        {
          "output_type": "stream",
          "name": "stdout",
          "text": [
            "Original Image:\n",
            "[[[102 220 225]\n",
            "  [ 95 179  61]\n",
            "  [234 203  92]]\n",
            "\n",
            " [[  3  98 243]\n",
            "  [ 14 149 245]\n",
            "  [ 46 106 244]]\n",
            "\n",
            " [[ 99 187  71]\n",
            "  [212 153 199]\n",
            "  [188 174  65]]]\n"
          ]
        }
      ]
    },
    {
      "cell_type": "code",
      "source": [
        "red_layer = image[:, :, 0]\n",
        "green_layer = image[:, :, 1]\n",
        "blue_layer = image[:, :, 2]\n",
        "\n",
        "print(\"Red layer: \")\n",
        "print(f\"{red_layer}\\n\")\n",
        "print(\"Green layer: \")\n",
        "print(f\"{green_layer}\\n\")\n",
        "print(\"Blue layer: \")\n",
        "print(f\"{blue_layer}\\n\")"
      ],
      "metadata": {
        "colab": {
          "base_uri": "https://localhost:8080/"
        },
        "id": "IjlH4eK5ABXp",
        "outputId": "d9cbf4c0-6092-4231-811e-094e623bc5b6"
      },
      "execution_count": 28,
      "outputs": [
        {
          "output_type": "stream",
          "name": "stdout",
          "text": [
            "Red layer: \n",
            "[[102  95 234]\n",
            " [  3  14  46]\n",
            " [ 99 212 188]]\n",
            "\n",
            "Green layer: \n",
            "[[220 179 203]\n",
            " [ 98 149 106]\n",
            " [187 153 174]]\n",
            "\n",
            "Blue layer: \n",
            "[[225  61  92]\n",
            " [243 245 244]\n",
            " [ 71 199  65]]\n",
            "\n"
          ]
        }
      ]
    },
    {
      "cell_type": "code",
      "source": [
        "avg_red = np.mean(red_layer)\n",
        "avg_green = np.mean(green_layer)\n",
        "avg_blue = np.mean(blue_layer)\n",
        "\n",
        "print(\"Average Pixel Intesity: \")\n",
        "print(f\"Red: {avg_red:.2f}, Green: {avg_green:.2f}, Blue: {avg_blue:.2f}\\n\")"
      ],
      "metadata": {
        "colab": {
          "base_uri": "https://localhost:8080/"
        },
        "id": "GK9QfLUVAR-5",
        "outputId": "95a79ef1-9ab4-4bf0-f2f1-6df05738c9a4"
      },
      "execution_count": 29,
      "outputs": [
        {
          "output_type": "stream",
          "name": "stdout",
          "text": [
            "Average Pixel Intesity: \n",
            "Red: 110.33, Green: 163.22, Blue: 160.56\n",
            "\n"
          ]
        }
      ]
    },
    {
      "cell_type": "code",
      "source": [
        "brightened_image = np.clip(image + 50, 0, 255)\n",
        "print(\"Brightened Image:\")\n",
        "print(brightened_image)"
      ],
      "metadata": {
        "colab": {
          "base_uri": "https://localhost:8080/"
        },
        "id": "sedAqI4SAsiM",
        "outputId": "6a3798bc-3027-4535-a251-f9a2fece824c"
      },
      "execution_count": 30,
      "outputs": [
        {
          "output_type": "stream",
          "name": "stdout",
          "text": [
            "Brightened Image:\n",
            "[[[152  14  19]\n",
            "  [145 229 111]\n",
            "  [ 28 253 142]]\n",
            "\n",
            " [[ 53 148  37]\n",
            "  [ 64 199  39]\n",
            "  [ 96 156  38]]\n",
            "\n",
            " [[149 237 121]\n",
            "  [  6 203 249]\n",
            "  [238 224 115]]]\n"
          ]
        }
      ]
    },
    {
      "cell_type": "code",
      "source": [
        "# Visualization\n",
        "fig, axes = plt.subplots(1, 5, figsize=(10, 5))\n",
        "\n",
        "# Red\n",
        "axes[0].imshow(red_layer, cmap=\"Reds\")\n",
        "axes[0].set_title(\"Red Layer\")\n",
        "axes[0].axis(\"off\")\n",
        "\n",
        "# Green\n",
        "axes[1].imshow(green_layer, cmap=\"Greens\")\n",
        "axes[1].set_title(\"Green Layer\")\n",
        "axes[1].axis(\"off\")\n",
        "\n",
        "# Blue\n",
        "axes[2].imshow(blue_layer, cmap=\"Blues\")\n",
        "axes[2].set_title(\"Blue Layer\")\n",
        "axes[2].axis(\"off\")\n",
        "\n",
        "#Original Image\n",
        "axes[3].imshow(image)\n",
        "axes[3].set_title(\"Original RGB\")\n",
        "axes[3].axis(\"off\")\n",
        "\n",
        "# Brightened Image (reconstruct RGB)\n",
        "axes[4].imshow(brightened_image)\n",
        "axes[4].set_title(\"Brightened RGB\")\n",
        "axes[4].axis(\"off\")\n",
        "\n",
        "plt.show()"
      ],
      "metadata": {
        "colab": {
          "base_uri": "https://localhost:8080/",
          "height": 156
        },
        "id": "Iu7hr8NFA7Gx",
        "outputId": "20dd161f-b369-42b1-a0c1-7c793116e182"
      },
      "execution_count": 36,
      "outputs": [
        {
          "output_type": "display_data",
          "data": {
            "text/plain": [
              "<Figure size 1000x500 with 5 Axes>"
            ],
            "image/png": "[encoded data removed]"
          },
          "metadata": {}
        }
      ]
    }
  ]
}