{
  "nbformat": 4,
  "nbformat_minor": 0,
  "metadata": {
    "colab": {
      "provenance": [],
      "authorship_tag": "ABX9TyMg1vSNIHRW5QLzuZTixhZf",
      "include_colab_link": true
    },
    "kernelspec": {
      "name": "python3",
      "display_name": "Python 3"
    },
    "language_info": {
      "name": "python"
    }
  },
  "cells": [
    {
      "cell_type": "markdown",
      "metadata": {
        "id": "view-in-github",
        "colab_type": "text"
      },
      "source": [
        "<a href=\"https://colab.research.google.com/github/Rohit2303A510J0/python_for_data_science/blob/main/LAB-2/assignment_2.ipynb\" target=\"_parent\"><img src=\"https://colab.research.google.com/assets/colab-badge.svg\" alt=\"Open In Colab\"/></a>"
      ]
    },
    {
      "cell_type": "markdown",
      "source": [
        "#Assignment - 2"
      ],
      "metadata": {
        "id": "VgVKAZte6cKh"
      }
    },
    {
      "cell_type": "code",
      "source": [
        "import numpy as np\n",
        "import pandas as pd\n",
        "import matplotlib.pyplot as plt"
      ],
      "metadata": {
        "id": "pMzHY_Yc-RJf"
      },
      "execution_count": 8,
      "outputs": []
    },
    {
      "cell_type": "markdown",
      "source": [
        "#Question - 1"
      ],
      "metadata": {
        "id": "AK7Ngqlc6zHJ"
      }
    },
    {
      "cell_type": "code",
      "source": [
        "# Create a NumPy array for 12 monthly temperature values\n",
        "monthly_temperature_values = np.array([20, 30, 28, 24, 22, 26.5, 29, 27.4, 28.6, 18, 20, 22.7])\n",
        "monthly_temperature_values"
      ],
      "metadata": {
        "colab": {
          "base_uri": "https://localhost:8080/"
        },
        "id": "CzVw0an06__b",
        "outputId": "66c9520e-9c29-4d31-df35-3aab5362da9f"
      },
      "execution_count": 27,
      "outputs": [
        {
          "output_type": "execute_result",
          "data": {
            "text/plain": [
              "array([20. , 30. , 28. , 24. , 22. , 26.5, 29. , 27.4, 28.6, 18. , 20. ,\n",
              "       22.7])"
            ]
          },
          "metadata": {},
          "execution_count": 27
        }
      ]
    },
    {
      "cell_type": "code",
      "source": [
        "# Find average temperature, hottest and coldest months\n",
        "average_temperature = sum(monthly_temperature_values) / len(monthly_temperature_values)\n",
        "hottest_month = max(monthly_temperature_values)\n",
        "coldest_month = min(monthly_temperature_values)\n",
        "\n",
        "print(\"Average temperature in the city: \", average_temperature)\n",
        "print(\"Hottest month in the city is: \", hottest_month)\n",
        "print(\"Coldest month in the city is: \", coldest_month)"
      ],
      "metadata": {
        "colab": {
          "base_uri": "https://localhost:8080/"
        },
        "id": "5GqSElEu8pj_",
        "outputId": "322a2d68-ecf0-4014-e30a-fb8eb8383884"
      },
      "execution_count": 6,
      "outputs": [
        {
          "output_type": "stream",
          "name": "stdout",
          "text": [
            "Average temperature in the city:  24.683333333333334\n",
            "Hottest month in the city is:  30.0\n",
            "Coldest month in the city is:  18.0\n"
          ]
        }
      ]
    },
    {
      "cell_type": "code",
      "source": [
        "# Normalize the temperature values\n",
        "mean_temperatures = np.mean(monthly_temperature_values)\n",
        "std_temperatures = np.std(monthly_temperature_values)\n",
        "normalized_temperatures = (monthly_temperature_values - mean_temperatures) / std_temperatures\n",
        "\n",
        "print(\"Normalized temperature values: \", normalized_temperatures)"
      ],
      "metadata": {
        "colab": {
          "base_uri": "https://localhost:8080/"
        },
        "id": "YvE2Pkz888z1",
        "outputId": "6ede224f-afa3-41e3-eb8a-50588c7e857a"
      },
      "execution_count": 7,
      "outputs": [
        {
          "output_type": "stream",
          "name": "stdout",
          "text": [
            "Normalized temperature values:  [-1.1958313   1.35754514  0.84686985 -0.17448072 -0.68515601  0.46386339\n",
            "  1.1022075   0.69366727  1.00007244 -1.70650659 -1.1958313  -0.50641966]\n"
          ]
        }
      ]
    },
    {
      "cell_type": "code",
      "source": [
        "# Visualize temperature change using matplotlib\n",
        "\n",
        "months = np.arange(1, 13)\n",
        "\n",
        "plt.figure(figsize=(10, 5))\n",
        "\n",
        "plt.plot(months, monthly_temperature_values, marker='o', label='Original Temperature (°C)')\n",
        "\n",
        "plt.plot(months, normalized_temperatures, marker='o', label='Normalized Temperature')\n",
        "\n",
        "plt.xticks(months, [\n",
        "    'Jan', 'Feb', 'Mar', 'Apr', 'May', 'Jun',\n",
        "    'Jul', 'Aug', 'Sep', 'Oct', 'Nov', 'Dec'\n",
        "])\n",
        "plt.xlabel('Month')\n",
        "plt.ylabel('Temperature / Z-score')\n",
        "plt.title('Monthly Temperature & Z-score Normalization')\n",
        "plt.legend()\n",
        "plt.grid(True)\n",
        "\n",
        "plt.show()"
      ],
      "metadata": {
        "colab": {
          "base_uri": "https://localhost:8080/",
          "height": 369
        },
        "id": "KfAqbcjI-f0x",
        "outputId": "743fca81-f0ae-425d-f229-1d58486ef74e"
      },
      "execution_count": 14,
      "outputs": [
        {
          "output_type": "display_data",
          "data": {
            "text/plain": [
              "<Figure size 1000x500 with 1 Axes>"
            ],
            "image/png": "[encoded data removed]"
          },
          "metadata": {}
        }
      ]
    },
    {
      "cell_type": "code",
      "source": [
        "# Identify months above annual average\n",
        "annual_average = np.mean(monthly_temperature_values)\n",
        "months_above_average = np.where(monthly_temperature_values > annual_average)\n",
        "\n",
        "print(\"Months above annual average: \", months_above_average)"
      ],
      "metadata": {
        "colab": {
          "base_uri": "https://localhost:8080/"
        },
        "id": "IRONNHrXAXix",
        "outputId": "7eeac752-743a-4a97-ea8a-12a95ff998a5"
      },
      "execution_count": 18,
      "outputs": [
        {
          "output_type": "stream",
          "name": "stdout",
          "text": [
            "Months above annual average:  (array([1, 2, 5, 6, 7, 8]),)\n"
          ]
        }
      ]
    },
    {
      "cell_type": "code",
      "source": [
        "# Convert Celsius to Fahrenheit using vectorized operations\n",
        "fahrenheit_temperatures = (monthly_temperature_values * 9/5) + 32\n",
        "\n",
        "print(\"Temperature values in Fahrenheit: \", fahrenheit_temperatures)"
      ],
      "metadata": {
        "colab": {
          "base_uri": "https://localhost:8080/"
        },
        "id": "ugyMWdvUBFYW",
        "outputId": "79108b75-7d0d-4c07-e8b3-ce259a67997b"
      },
      "execution_count": 19,
      "outputs": [
        {
          "output_type": "stream",
          "name": "stdout",
          "text": [
            "Temperature values in Fahrenheit:  [68.   86.   82.4  75.2  71.6  79.7  84.2  81.32 83.48 64.4  68.   72.86]\n"
          ]
        }
      ]
    },
    {
      "cell_type": "markdown",
      "source": [
        "#Question-2"
      ],
      "metadata": {
        "id": "iH9Ng8-kBdbX"
      }
    },
    {
      "cell_type": "code",
      "source": [
        "# Create pandas DataFrame with OrderId, Product, Quantity, Price\n",
        "sales_data = pd.DataFrame({\n",
        "    'OrderID': [101, 102, 103, 104, 105],\n",
        "    'Product': ['Laptop', 'Smartphone', 'Tablet', 'Headphones', 'Smartwatch'],\n",
        "    'Quantity': [2, 1, 3, 2, 1],\n",
        "    'Price': [800, 400, 300, 150, 200]\n",
        "})\n",
        "print(sales_data)"
      ],
      "metadata": {
        "colab": {
          "base_uri": "https://localhost:8080/"
        },
        "id": "5dYLWu4DBhFj",
        "outputId": "a33789ea-34d1-4cd1-f29d-47b6731b74aa"
      },
      "execution_count": 20,
      "outputs": [
        {
          "output_type": "stream",
          "name": "stdout",
          "text": [
            "   OrderID     Product  Quantity  Price\n",
            "0      101      Laptop         2    800\n",
            "1      102  Smartphone         1    400\n",
            "2      103      Tablet         3    300\n",
            "3      104  Headphones         2    150\n",
            "4      105  Smartwatch         1    200\n"
          ]
        }
      ]
    },
    {
      "cell_type": "code",
      "source": [
        "# Calculate Total Sale per order (Quantity x Price)\n",
        "sales_data['Total Sale'] = sales_data['Quantity'] * sales_data['Price']\n",
        "print(sales_data)"
      ],
      "metadata": {
        "colab": {
          "base_uri": "https://localhost:8080/"
        },
        "id": "SfdgSVhrCytI",
        "outputId": "274ee2a1-8ae8-4b3b-be39-7e96ad1904cc"
      },
      "execution_count": 21,
      "outputs": [
        {
          "output_type": "stream",
          "name": "stdout",
          "text": [
            "   OrderID     Product  Quantity  Price  Total Sale\n",
            "0      101      Laptop         2    800        1600\n",
            "1      102  Smartphone         1    400         400\n",
            "2      103      Tablet         3    300         900\n",
            "3      104  Headphones         2    150         300\n",
            "4      105  Smartwatch         1    200         200\n"
          ]
        }
      ]
    },
    {
      "cell_type": "code",
      "source": [
        "# Filter orders where total sale > 1000\n",
        "high_sales_orders = sales_data[sales_data['Total Sale'] > 1000]\n",
        "print(high_sales_orders)"
      ],
      "metadata": {
        "colab": {
          "base_uri": "https://localhost:8080/"
        },
        "id": "LEaRJU8mC7Dj",
        "outputId": "ed42dd0f-fcda-4826-c845-a2bd843a3b86"
      },
      "execution_count": 22,
      "outputs": [
        {
          "output_type": "stream",
          "name": "stdout",
          "text": [
            "   OrderID Product  Quantity  Price  Total Sale\n",
            "0      101  Laptop         2    800        1600\n"
          ]
        }
      ]
    },
    {
      "cell_type": "code",
      "source": [
        "# Add a discount column based on sale amount\n",
        "sales_data['Discount'] = sales_data['Total Sale'].apply(lambda x: x * 0.1 if x > 500 else 0)\n",
        "print(sales_data)"
      ],
      "metadata": {
        "colab": {
          "base_uri": "https://localhost:8080/"
        },
        "id": "LIdyub6JDBdW",
        "outputId": "e804c42b-81e7-4983-833c-1036ba96171a"
      },
      "execution_count": 23,
      "outputs": [
        {
          "output_type": "stream",
          "name": "stdout",
          "text": [
            "   OrderID     Product  Quantity  Price  Total Sale  Discount\n",
            "0      101      Laptop         2    800        1600     160.0\n",
            "1      102  Smartphone         1    400         400       0.0\n",
            "2      103      Tablet         3    300         900      90.0\n",
            "3      104  Headphones         2    150         300       0.0\n",
            "4      105  Smartwatch         1    200         200       0.0\n"
          ]
        }
      ]
    },
    {
      "cell_type": "code",
      "source": [
        "# Export the summary to Excel\n",
        "from google.colab import drive\n",
        "drive.mount('/content/drive')\n",
        "\n",
        "path = '/content/drive/My Drive/Colab Notebooks/sales_data.xlsx'\n",
        "\n",
        "sales_data.to_excel(path, index=False)"
      ],
      "metadata": {
        "colab": {
          "base_uri": "https://localhost:8080/"
        },
        "id": "sb6GnJwQDIsW",
        "outputId": "5e39efc6-9718-45f2-b3a4-86505a498acd"
      },
      "execution_count": 25,
      "outputs": [
        {
          "output_type": "stream",
          "name": "stdout",
          "text": [
            "Mounted at /content/drive\n"
          ]
        }
      ]
    }
  ]
}