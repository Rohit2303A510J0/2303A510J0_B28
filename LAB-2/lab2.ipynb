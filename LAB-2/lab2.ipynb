{
  "nbformat": 4,
  "nbformat_minor": 0,
  "metadata": {
    "colab": {
      "provenance": [],
      "authorship_tag": "ABX9TyOSDPGbh8rsqqzv2WMsdUHf",
      "include_colab_link": true
    },
    "kernelspec": {
      "name": "python3",
      "display_name": "Python 3"
    },
    "language_info": {
      "name": "python"
    }
  },
  "cells": [
    {
      "cell_type": "markdown",
      "metadata": {
        "id": "view-in-github",
        "colab_type": "text"
      },
      "source": [
        "<a href=\"https://colab.research.google.com/github/Rohit2303A510J0/python_for_data_science/blob/main/LAB-2/lab2.ipynb\" target=\"_parent\"><img src=\"https://colab.research.google.com/assets/colab-badge.svg\" alt=\"Open In Colab\"/></a>"
      ]
    },
    {
      "cell_type": "markdown",
      "source": [
        "# Numpy and Pandas"
      ],
      "metadata": {
        "id": "ruC7C3gp0Y37"
      }
    },
    {
      "cell_type": "markdown",
      "source": [
        "#Import Required Libraries"
      ],
      "metadata": {
        "id": "j3rfiOHx1El3"
      }
    },
    {
      "cell_type": "code",
      "execution_count": 1,
      "metadata": {
        "id": "KCHMVyi_0XZ-"
      },
      "outputs": [],
      "source": [
        "import numpy as np\n",
        "import pandas as pd"
      ]
    },
    {
      "cell_type": "markdown",
      "source": [
        "#Create a NumPy Array"
      ],
      "metadata": {
        "id": "ZO2EsjnS1Uau"
      }
    },
    {
      "cell_type": "code",
      "source": [
        "arr = np.array([10, 20, 30, 40, 50])\n",
        "print('Original Array:', arr)"
      ],
      "metadata": {
        "colab": {
          "base_uri": "https://localhost:8080/"
        },
        "id": "IKkUk3Fh1YhC",
        "outputId": "23d0afc3-d934-4905-d1b1-3b848e3d0d8b"
      },
      "execution_count": 2,
      "outputs": [
        {
          "output_type": "stream",
          "name": "stdout",
          "text": [
            "Original Array: [10 20 30 40 50]\n"
          ]
        }
      ]
    },
    {
      "cell_type": "markdown",
      "source": [
        "#Manipulate the NumPy Array"
      ],
      "metadata": {
        "id": "CfpSME1u1hpG"
      }
    },
    {
      "cell_type": "code",
      "source": [
        "print(arr + 5) # Add 5 to each element\n",
        "print(arr * 2) # Multiply each element by 2\n",
        "print(arr[arr > 25]) # Filter elements > 25"
      ],
      "metadata": {
        "colab": {
          "base_uri": "https://localhost:8080/"
        },
        "id": "JmGjAOkL1m0u",
        "outputId": "666d4c1c-3751-42ea-a40b-56ae8c6873fe"
      },
      "execution_count": 3,
      "outputs": [
        {
          "output_type": "stream",
          "name": "stdout",
          "text": [
            "[15 25 35 45 55]\n",
            "[ 20  40  60  80 100]\n",
            "[30 40 50]\n"
          ]
        }
      ]
    },
    {
      "cell_type": "markdown",
      "source": [
        "#Create pandas DataFrame"
      ],
      "metadata": {
        "id": "274tdazi102f"
      }
    },
    {
      "cell_type": "code",
      "source": [
        "# Create dictionary for the data\n",
        "data = {\n",
        "    'Name': ['Alice', 'Bob', 'Chalie', 'David'],\n",
        "    'Age': [25, 30, 35, 40],\n",
        "    'Score': [85.5, 92.0, 88.0, 76.5]\n",
        "}\n",
        "\n",
        "# Create DataFrame\n",
        "df = pd.DataFrame(data)\n",
        "print(\"\\nOriginal DataFrame:\\n\", df)"
      ],
      "metadata": {
        "colab": {
          "base_uri": "https://localhost:8080/"
        },
        "id": "3rEaJA7915V1",
        "outputId": "fdb9ac67-be8f-4258-c48c-e96f5b10279f"
      },
      "execution_count": 4,
      "outputs": [
        {
          "output_type": "stream",
          "name": "stdout",
          "text": [
            "\n",
            "Original DataFrame:\n",
            "      Name  Age  Score\n",
            "0   Alice   25   85.5\n",
            "1     Bob   30   92.0\n",
            "2  Chalie   35   88.0\n",
            "3   David   40   76.5\n"
          ]
        }
      ]
    },
    {
      "cell_type": "markdown",
      "source": [
        "#Manipulate the DataFrame"
      ],
      "metadata": {
        "id": "jo2lLBjU2Uam"
      }
    }
  ]
}