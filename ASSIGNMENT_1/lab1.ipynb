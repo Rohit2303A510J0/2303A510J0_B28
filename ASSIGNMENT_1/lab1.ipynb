{
  "nbformat": 4,
  "nbformat_minor": 0,
  "metadata": {
    "colab": {
      "provenance": [],
      "authorship_tag": "ABX9TyOF6HryLi3HcLRkWACcdv35",
      "include_colab_link": true
    },
    "kernelspec": {
      "name": "python3",
      "display_name": "Python 3"
    },
    "language_info": {
      "name": "python"
    }
  },
  "cells": [
    {
      "cell_type": "markdown",
      "metadata": {
        "id": "view-in-github",
        "colab_type": "text"
      },
      "source": [
        "<a href=\"https://colab.research.google.com/github/Rohit2303A510J0/python_for_data_science/blob/main/ASSIGNMENT_1/lab1.ipynb\" target=\"_parent\"><img src=\"https://colab.research.google.com/assets/colab-badge.svg\" alt=\"Open In Colab\"/></a>"
      ]
    },
    {
      "cell_type": "markdown",
      "source": [
        "Recursive function to find factorial of the number"
      ],
      "metadata": {
        "id": "JGxB7mEB0N5J"
      }
    },
    {
      "cell_type": "code",
      "execution_count": 4,
      "metadata": {
        "id": "0ePz0pCSz_JI",
        "colab": {
          "base_uri": "https://localhost:8080/"
        },
        "outputId": "aecd1c71-ecea-4962-a385-32f00d2f24c6"
      },
      "outputs": [
        {
          "output_type": "stream",
          "name": "stdout",
          "text": [
            "Enter a number: 6\n",
            "The factorial of 6 is 720\n"
          ]
        }
      ],
      "source": [
        "# Recursive function to find factorial of a number\n",
        "def factorial(n):\n",
        "  if n == 0 or n == 1:\n",
        "    return 1\n",
        "  else:\n",
        "    return n * factorial(n - 1)\n",
        "\n",
        "number = int(input(\"Enter a number: \"))\n",
        "if number < 0:\n",
        "  print(\"Factorial is not defined for negative numbers\")\n",
        "else:\n",
        "  result = factorial(number)\n",
        "  print(f\"The factorial of {number} is {result}\")"
      ]
    }
  ]
}