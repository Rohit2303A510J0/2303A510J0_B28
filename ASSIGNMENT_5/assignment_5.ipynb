{
  "nbformat": 4,
  "nbformat_minor": 0,
  "metadata": {
    "colab": {
      "provenance": [],
      "authorship_tag": "ABX9TyMimZtQA5KCtz7fZPorvs7F",
      "include_colab_link": true
    },
    "kernelspec": {
      "name": "python3",
      "display_name": "Python 3"
    },
    "language_info": {
      "name": "python"
    }
  },
  "cells": [
    {
      "cell_type": "markdown",
      "metadata": {
        "id": "view-in-github",
        "colab_type": "text"
      },
      "source": [
        "<a href=\"https://colab.research.google.com/github/Rohit2303A510J0/2303A510J0_B28/blob/main/ASSIGNMENT_5/assignment_5.ipynb\" target=\"_parent\"><img src=\"https://colab.research.google.com/assets/colab-badge.svg\" alt=\"Open In Colab\"/></a>"
      ]
    },
    {
      "cell_type": "markdown",
      "source": [
        "#Question - 1"
      ],
      "metadata": {
        "id": "G4Mo4nL8T5T-"
      }
    },
    {
      "cell_type": "code",
      "execution_count": null,
      "metadata": {
        "id": "8JK3GRhNT2BR"
      },
      "outputs": [],
      "source": [
        "import pandas as pd\n",
        "\n",
        "customers = pd.DataFrame({\n",
        "    \"customer_id\": [1, 2, 3, 4, 5],\n",
        "    \"name\": [\"Alice\", \"Bob\", \"Charlie\", \"David\", \"Eva\"],\n",
        "    \"city\": [\"Delhi\", \"Mumbai\", \"Delhi\", \"Bangalore\", \"Mumbai\"]\n",
        "})\n",
        "\n",
        "customers"
      ]
    },
    {
      "cell_type": "code",
      "source": [
        "transactions = pd.DataFrame({\n",
        "    \"transaction_id\": range(101, 111),\n",
        "    \"customer_id\": [1, 2, 2, 3, 4, 5, 5, 1, 3, 4],\n",
        "    \"amount\": [2000, 1500, 3000, 2500, 1800, 2200, 2700, 1000, 1200, 3500]\n",
        "})\n",
        "\n",
        "transactions"
      ],
      "metadata": {
        "id": "gsVL4lF4UHeo"
      },
      "execution_count": null,
      "outputs": []
    },
    {
      "cell_type": "code",
      "source": [
        "merged = pd.merge(transactions, customers, on=\"customer_id\")\n",
        "merged"
      ],
      "metadata": {
        "id": "nMvWfL7sUJJ4"
      },
      "execution_count": null,
      "outputs": []
    },
    {
      "cell_type": "code",
      "source": [
        "customer_spend = merged.groupby([\"customer_id\", \"name\"])[\"amount\"].sum().reset_index()\n",
        "customer_spend"
      ],
      "metadata": {
        "id": "XaSgNRR2ULJq"
      },
      "execution_count": null,
      "outputs": []
    },
    {
      "cell_type": "code",
      "source": [
        "city_spend = merged.groupby(\"city\")[\"amount\"].sum().reset_index()\n",
        "city_spend"
      ],
      "metadata": {
        "id": "U9s2IukHUNKE"
      },
      "execution_count": null,
      "outputs": []
    },
    {
      "cell_type": "code",
      "source": [
        "top_spender = customer_spend.loc[customer_spend[\"amount\"].idxmax()]\n",
        "top_spender"
      ],
      "metadata": {
        "id": "sSMbUCj9UO9W"
      },
      "execution_count": null,
      "outputs": []
    },
    {
      "cell_type": "markdown",
      "source": [
        "Insights\n",
        "\n",
        "Customer Spending: Shows how much each customer spends overall, useful for loyalty programs.\n",
        "\n",
        "City-wise Spending: Helps identify high-revenue regions (e.g., Mumbai vs. Delhi).\n",
        "\n",
        "Top Spender: Finding the highest spender supports targeted marketing.\n",
        "\n",
        "Business Impact: Merging customer & transaction data provides a full view of behavior, enabling better segmentation and decision-making."
      ],
      "metadata": {
        "id": "ZQm3fZ_kUYi_"
      }
    },
    {
      "cell_type": "markdown",
      "source": [
        "#Question - 2"
      ],
      "metadata": {
        "id": "VGA-KUIjUZrp"
      }
    },
    {
      "cell_type": "code",
      "source": [
        "import pandas as pd\n",
        "\n",
        "patients = pd.DataFrame({\n",
        "    \"patient_id\": [1, 2, 3, 4, 5],\n",
        "    \"name\": [\"Amit\", \"Bhavna\", \"Chetan\", \"Divya\", \"Esha\"],\n",
        "    \"age\": [34, 45, 29, 54, 40]\n",
        "})\n",
        "\n",
        "patients"
      ],
      "metadata": {
        "id": "4qQIeL_-UbL5"
      },
      "execution_count": null,
      "outputs": []
    },
    {
      "cell_type": "code",
      "source": [
        "appointments = pd.DataFrame({\n",
        "    \"appointment_id\": range(101, 111),\n",
        "    \"patient_id\": [1, 2, 2, 3, 4, 5, 5, 1, 3, 4],\n",
        "    \"doctor\": [\"Dr. Rao\", \"Dr. Mehta\", \"Dr. Mehta\", \"Dr. Rao\", \"Dr. Khan\",\n",
        "               \"Dr. Mehta\", \"Dr. Khan\", \"Dr. Rao\", \"Dr. Khan\", \"Dr. Rao\"]\n",
        "})\n",
        "\n",
        "appointments"
      ],
      "metadata": {
        "id": "K7J2BzFpVP1I"
      },
      "execution_count": null,
      "outputs": []
    },
    {
      "cell_type": "code",
      "source": [
        "merged = pd.merge(appointments, patients, on=\"patient_id\")\n",
        "merged"
      ],
      "metadata": {
        "id": "ToWk5pN4VRS3"
      },
      "execution_count": null,
      "outputs": []
    },
    {
      "cell_type": "code",
      "source": [
        "patient_visits = merged.groupby([\"patient_id\", \"name\"])[\"appointment_id\"].count().reset_index()\n",
        "patient_visits.rename(columns={\"appointment_id\": \"total_visits\"}, inplace=True)\n",
        "patient_visits"
      ],
      "metadata": {
        "id": "wMOblk_FVSsH"
      },
      "execution_count": null,
      "outputs": []
    },
    {
      "cell_type": "code",
      "source": [
        "doctor_workload = merged.groupby(\"doctor\")[\"appointment_id\"].count().reset_index()\n",
        "doctor_workload.rename(columns={\"appointment_id\": \"total_appointments\"}, inplace=True)\n",
        "doctor_workload"
      ],
      "metadata": {
        "id": "eMCweLASVT8E"
      },
      "execution_count": null,
      "outputs": []
    },
    {
      "cell_type": "code",
      "source": [
        "max_patient = patient_visits.loc[patient_visits[\"total_visits\"].idxmax()]\n",
        "max_patient"
      ],
      "metadata": {
        "id": "giNbvGqdVV_i"
      },
      "execution_count": null,
      "outputs": []
    },
    {
      "cell_type": "markdown",
      "source": [
        "Insights\n",
        "\n",
        "Patient Frequency: Shows how many times each patient visited the hospital. Frequent visitors may need chronic care monitoring.\n",
        "\n",
        "Doctor Workload: Helps balance patient distribution among doctors and allocate resources efficiently.\n",
        "\n",
        "Top Patient: Identifying the patient with maximum visits helps track high-demand cases for personalized healthcare.\n",
        "\n",
        "Hospital Management Impact: Combining patient and appointment data gives a complete view of hospital activity, supporting better decision-making."
      ],
      "metadata": {
        "id": "lKQl_CJJVZqP"
      }
    }
  ]
}